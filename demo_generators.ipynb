{
 "cells": [
  {
   "cell_type": "code",
   "execution_count": 11,
   "metadata": {},
   "outputs": [],
   "source": [
    "from core.generators import ClosureGenerator, SequenceGenerator\n",
    "from core.free_group import reciprocal, conjugation, commutator, is_in_subgroup"
   ]
  },
  {
   "cell_type": "code",
   "execution_count": 5,
   "metadata": {},
   "outputs": [
    {
     "name": "stdout",
     "output_type": "stream",
     "text": [
      "[1, 1, 1, 1, 2]\n",
      "[-2, 1, 2, 1, -2]\n",
      "[1, 2, 2, 1, 1]\n",
      "[-1, -2, -1, -1, -2]\n",
      "[1, 2, 2, -1, -2]\n",
      "[-1, 2, -1, -2, -1]\n",
      "[-2, -2, -1, 2, -1]\n",
      "[1, 1, 2, -1, -1]\n",
      "[2, -1, 2, 2, -1]\n",
      "[-1, -1, -1, -1, -2]\n",
      "[2, 1, 2, -1, -2]\n",
      "[-3, 1, 3]\n",
      "[2, 1, -2]\n",
      "[-1]\n",
      "[-1]\n",
      "[1]\n",
      "[2, 1, -2]\n"
     ]
    }
   ],
   "source": [
    "gen1 = ClosureGenerator(generators_number=2, length_config={'length': 5})\n",
    "gen2 = ClosureGenerator(generators_number=3, length_config={'length': 3}, subgroup=[1])\n",
    "\n",
    "for word in SequenceGenerator(gen1.take(10), gen2.take(5)):\n",
    "    print(word)"
   ]
  },
  {
   "cell_type": "code",
   "execution_count": 7,
   "metadata": {},
   "outputs": [
    {
     "data": {
      "text/plain": [
       "([-2, 1, 1, 2, 2], [1])"
      ]
     },
     "execution_count": 7,
     "metadata": {},
     "output_type": "execute_result"
    }
   ],
   "source": [
    "a, b = gen1(), gen2()\n",
    "a, b"
   ]
  },
  {
   "cell_type": "code",
   "execution_count": 14,
   "metadata": {},
   "outputs": [
    {
     "data": {
      "text/plain": [
       "([-2, -2, -1, -1, 2], [-1])"
      ]
     },
     "execution_count": 14,
     "metadata": {},
     "output_type": "execute_result"
    }
   ],
   "source": [
    "reciprocal(a), reciprocal(b)"
   ]
  },
  {
   "cell_type": "code",
   "execution_count": 13,
   "metadata": {},
   "outputs": [
    {
     "data": {
      "text/plain": [
       "[-1, -2, 1, 1, 2, 2, 1]"
      ]
     },
     "execution_count": 13,
     "metadata": {},
     "output_type": "execute_result"
    }
   ],
   "source": [
    "conjugation(a, b)"
   ]
  },
  {
   "cell_type": "code",
   "execution_count": 10,
   "metadata": {},
   "outputs": [
    {
     "data": {
      "text/plain": [
       "[-2, -2, -1, -1, 2, -1, -2, 1, 1, 2, 2, 1]"
      ]
     },
     "execution_count": 10,
     "metadata": {},
     "output_type": "execute_result"
    }
   ],
   "source": [
    "commutator(a, b)"
   ]
  },
  {
   "cell_type": "code",
   "execution_count": 12,
   "metadata": {},
   "outputs": [
    {
     "data": {
      "text/plain": [
       "(False, True)"
      ]
     },
     "execution_count": 12,
     "metadata": {},
     "output_type": "execute_result"
    }
   ],
   "source": [
    "is_in_subgroup([1], a), is_in_subgroup([1], b)"
   ]
  }
 ],
 "metadata": {
  "kernelspec": {
   "display_name": "Python 3 (ipykernel)",
   "language": "python",
   "name": "python3"
  },
  "language_info": {
   "codemirror_mode": {
    "name": "ipython",
    "version": 3
   },
   "file_extension": ".py",
   "mimetype": "text/x-python",
   "name": "python",
   "nbconvert_exporter": "python",
   "pygments_lexer": "ipython3",
   "version": "3.8.10"
  },
  "orig_nbformat": 4
 },
 "nbformat": 4,
 "nbformat_minor": 2
}
