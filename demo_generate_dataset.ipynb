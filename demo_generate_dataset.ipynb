{
 "cells": [
  {
   "cell_type": "code",
   "execution_count": 1,
   "metadata": {},
   "outputs": [],
   "source": [
    "from pathlib import Path\n",
    "from core.generators import ClosureGenerator, ChoiceGenerator\n",
    "from data.utils import create_dataset, convert_word_pad_one_side, convert_labels, columns_of_subgroups\n",
    "from data.free_group_dataset import FreeGroupDataset"
   ]
  },
  {
   "cell_type": "code",
   "execution_count": 5,
   "metadata": {},
   "outputs": [],
   "source": [
    "name = '2-generators;balanced'\n",
    "\n",
    "def dataset():\n",
    "    path = Path('data', 'datasets', name)\n",
    "    if not path.is_dir():\n",
    "        gen1 = ChoiceGenerator(\n",
    "            (ClosureGenerator(generators_number=2, length_config={'max-length': 50}), 0.7),\n",
    "            (ClosureGenerator(generators_number=2, length_config={'max-length': 20}), 0.3)\n",
    "        )\n",
    "        gen2 = ChoiceGenerator(\n",
    "            (ClosureGenerator(generators_number=2, length_config={'max-length': 50}, subgroup=[1]), 0.7),\n",
    "            (ClosureGenerator(generators_number=2, length_config={'max-length': 20}, subgroup=[1]), 0.3)\n",
    "        )\n",
    "        create_dataset(\n",
    "            generator=ChoiceGenerator((gen1, 0.5), (gen2, 0.5)).take(500_000),\n",
    "            columns=columns_of_subgroups(0b01),\n",
    "            path_or_name=path\n",
    "        )\n",
    "    return FreeGroupDataset(source=path, word_convert=convert_word_pad_one_side(50), labels_convert=convert_labels())"
   ]
  },
  {
   "cell_type": "code",
   "execution_count": 6,
   "metadata": {},
   "outputs": [],
   "source": [
    "ds = dataset()"
   ]
  },
  {
   "cell_type": "code",
   "execution_count": 7,
   "metadata": {},
   "outputs": [
    {
     "name": "stdout",
     "output_type": "stream",
     "text": [
      "tensor([[ 1.,  2., -1.,  2., -1., -1.,  2.,  1.,  1.,  2.,  2., -1., -2., -2.,\n",
      "          1.,  1., -2., -2., -2., -2., -1.,  2.,  2.,  2.,  2., -1., -1.,  2.,\n",
      "          2.,  1., -2., -2., -1., -1., -2.,  1.,  1., -2.,  1., -2.,  1.,  2.,\n",
      "         -1., -2.,  0.,  0.,  0.,  0.,  0.,  0.],\n",
      "        [ 1., -2., -2., -1., -1., -2., -1., -1., -1.,  2.,  2.,  2., -1., -1.,\n",
      "          2.,  2.,  1., -2., -2., -1.,  2.,  2., -1., -2., -2.,  1.,  1., -2.,\n",
      "         -2., -2.,  1.,  1.,  1.,  2.,  1.,  1.,  2.,  2.,  1.,  0.,  0.,  0.,\n",
      "          0.,  0.,  0.,  0.,  0.,  0.,  0.,  0.],\n",
      "        [-1.,  2.,  1.,  1.,  1.,  2., -1., -2.,  1.,  1., -2., -2., -1., -2.,\n",
      "          1.,  2.,  2.,  2.,  1., -2., -1., -1., -1., -1.,  2., -1.,  2., -1.,\n",
      "          2.,  2.,  2.,  2.,  2.,  2.,  1.,  2., -1., -2., -1., -1.,  2.,  1.,\n",
      "          2., -1., -2., -1., -2., -2.,  0.,  0.],\n",
      "        [ 1.,  2., -1., -2.,  1., -2.,  1.,  1., -2.,  1., -2., -1.,  2.,  1.,\n",
      "         -2.,  1.,  2., -1.,  2., -1., -2., -1., -2., -2.,  1., -2., -2.,  1.,\n",
      "          1.,  2.,  2.,  2., -1.,  2.,  2.,  2.,  1.,  2., -1., -1.,  2., -1.,\n",
      "          2., -1.,  2., -1.,  0.,  0.,  0.,  0.],\n",
      "        [-2., -1., -2., -2.,  1., -2., -2., -2.,  1.,  1.,  2., -1., -1.,  2.,\n",
      "         -1., -1., -1., -2., -2., -1.,  2.,  2.,  1.,  1.,  1., -2.,  1.,  1.,\n",
      "         -2., -1., -1.,  2.,  2.,  2., -1.,  2.,  2.,  1.,  2.,  0.,  0.,  0.,\n",
      "          0.,  0.,  0.,  0.,  0.,  0.,  0.,  0.],\n",
      "        [-2., -2.,  1., -2., -1., -1., -1.,  2.,  1., -2., -2., -2., -2., -2.,\n",
      "          1.,  2., -1.,  0.,  0.,  0.,  0.,  0.,  0.,  0.,  0.,  0.,  0.,  0.,\n",
      "          0.,  0.,  0.,  0.,  0.,  0.,  0.,  0.,  0.,  0.,  0.,  0.,  0.,  0.,\n",
      "          0.,  0.,  0.,  0.,  0.,  0.,  0.,  0.],\n",
      "        [ 2.,  1.,  1., -2., -2., -1.,  2.,  1., -2.,  1.,  2.,  2.,  2.,  1.,\n",
      "         -2.,  1.,  0.,  0.,  0.,  0.,  0.,  0.,  0.,  0.,  0.,  0.,  0.,  0.,\n",
      "          0.,  0.,  0.,  0.,  0.,  0.,  0.,  0.,  0.,  0.,  0.,  0.,  0.,  0.,\n",
      "          0.,  0.,  0.,  0.,  0.,  0.,  0.,  0.],\n",
      "        [-2., -2., -1.,  2.,  1.,  1.,  1.,  2.,  1., -2.,  1.,  1., -2., -2.,\n",
      "         -2., -1., -2.,  1.,  2.,  1.,  2.,  2.,  2., -1., -1., -2., -2.,  1.,\n",
      "          2.,  1., -2., -1., -1., -1.,  2., -1., -2., -1., -1., -2.,  1., -2.,\n",
      "         -1., -1., -1., -2., -2.,  1.,  0.,  0.],\n",
      "        [ 1., -2., -1., -1., -2., -2., -2., -1., -1., -1., -2., -2.,  1.,  2.,\n",
      "         -1.,  0.,  0.,  0.,  0.,  0.,  0.,  0.,  0.,  0.,  0.,  0.,  0.,  0.,\n",
      "          0.,  0.,  0.,  0.,  0.,  0.,  0.,  0.,  0.,  0.,  0.,  0.,  0.,  0.,\n",
      "          0.,  0.,  0.,  0.,  0.,  0.,  0.,  0.],\n",
      "        [ 1.,  1.,  2.,  1.,  1.,  1.,  2.,  1.,  2., -1., -2.,  1., -2.,  1.,\n",
      "         -2., -2., -1.,  2., -1., -2., -1.,  2., -1., -1., -2., -1., -1., -1.,\n",
      "         -1., -2., -2., -2., -2., -1.,  2.,  2.,  1.,  2., -1., -1., -1., -1.,\n",
      "          2., -1.,  2., -1., -2.,  0.,  0.,  0.]]) tensor([[1.],\n",
      "        [1.],\n",
      "        [0.],\n",
      "        [0.],\n",
      "        [1.],\n",
      "        [0.],\n",
      "        [0.],\n",
      "        [0.],\n",
      "        [0.],\n",
      "        [0.]])\n"
     ]
    }
   ],
   "source": [
    "from torch.utils.data import DataLoader\n",
    "\n",
    "for X_batch, y_batch in DataLoader(ds, shuffle=True, batch_size=10):\n",
    "    print(X_batch, y_batch)\n",
    "    break"
   ]
  }
 ],
 "metadata": {
  "kernelspec": {
   "display_name": "Python 3 (ipykernel)",
   "language": "python",
   "name": "python3"
  },
  "language_info": {
   "codemirror_mode": {
    "name": "ipython",
    "version": 3
   },
   "file_extension": ".py",
   "mimetype": "text/x-python",
   "name": "python",
   "nbconvert_exporter": "python",
   "pygments_lexer": "ipython3",
   "version": "3.8.10"
  },
  "orig_nbformat": 4
 },
 "nbformat": 4,
 "nbformat_minor": 2
}
